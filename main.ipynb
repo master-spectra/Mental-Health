{
 "cells": [
  {
   "cell_type": "code",
   "execution_count": 55,
   "id": "initial_id",
   "metadata": {
    "ExecuteTime": {
     "end_time": "2024-09-10T08:33:37.042410Z",
     "start_time": "2024-09-10T08:33:36.997414Z"
    },
    "collapsed": true
   },
   "outputs": [],
   "source": [
    "import pandas as pd\n",
    "import numpy as np\n",
    "import matplotlib.pyplot as plt\n",
    "from scipy import stats\n",
    "import seaborn as sns\n",
    "from sklearn.model_selection import train_test_split, GridSearchCV\n",
    "from sklearn.preprocessing import StandardScaler, OneHotEncoder\n",
    "from sklearn.compose import ColumnTransformer\n",
    "from sklearn.pipeline import Pipeline\n",
    "from sklearn.impute import SimpleImputer\n",
    "from sklearn.linear_model import LogisticRegression, SGDClassifier\n",
    "from sklearn.tree import DecisionTreeClassifier\n",
    "from sklearn.metrics import f1_score, recall_score, precision_score, confusion_matrix\n",
    "import warnings\n",
    "from sklearn.exceptions import ConvergenceWarning\n",
    "from sklearn.ensemble import GradientBoostingClassifier\n",
    "\n",
    "\n",
    "\n",
    "data = pd.read_csv('./data/mental_health_and_technology_usage_2024.csv')"
   ]
  },
  {
   "cell_type": "code",
   "execution_count": null,
   "id": "01ae1ea8",
   "metadata": {},
   "outputs": [],
   "source": []
  },
  {
   "cell_type": "markdown",
   "id": "846ce861c6fea508",
   "metadata": {},
   "source": [
    "# Первичный анализ дата сета\n"
   ]
  },
  {
   "cell_type": "markdown",
   "id": "16c77d91c0d228de",
   "metadata": {},
   "source": [
    "### Посмотрим на первые 5 строк дата сета"
   ]
  },
  {
   "cell_type": "code",
   "execution_count": null,
   "id": "73be3eb56640a665",
   "metadata": {
    "ExecuteTime": {
     "end_time": "2024-09-10T08:33:37.660410Z",
     "start_time": "2024-09-10T08:33:37.615413Z"
    }
   },
   "outputs": [],
   "source": [
    "data.head()"
   ]
  },
  {
   "cell_type": "code",
   "execution_count": null,
   "id": "5954e3af",
   "metadata": {
    "ExecuteTime": {
     "end_time": "2024-09-10T08:33:37.866412Z",
     "start_time": "2024-09-10T08:33:37.837412Z"
    }
   },
   "outputs": [],
   "source": [
    "data.shape"
   ]
  },
  {
   "cell_type": "markdown",
   "id": "7d6ef068d8cdaeba",
   "metadata": {},
   "source": [
    "### Посмотрим на размер дата сета  и типы данных"
   ]
  },
  {
   "cell_type": "code",
   "execution_count": null,
   "id": "1b5c3db71b37589b",
   "metadata": {
    "ExecuteTime": {
     "end_time": "2024-09-10T08:33:38.024412Z",
     "start_time": "2024-09-10T08:33:38.001415Z"
    }
   },
   "outputs": [],
   "source": [
    "data.info()"
   ]
  },
  {
   "cell_type": "markdown",
   "id": "779a97943f5fa74",
   "metadata": {},
   "source": [
    "\n",
    "### Посмотрим на статистику дата сета"
   ]
  },
  {
   "cell_type": "code",
   "execution_count": null,
   "id": "85909c24f2494ca2",
   "metadata": {
    "ExecuteTime": {
     "end_time": "2024-09-10T08:33:38.452412Z",
     "start_time": "2024-09-10T08:33:38.134413Z"
    }
   },
   "outputs": [],
   "source": [
    "data.describe()"
   ]
  },
  {
   "cell_type": "markdown",
   "id": "2392ba40622a4854",
   "metadata": {},
   "source": [
    "### Посмотрим на количество пропущенных значений"
   ]
  },
  {
   "cell_type": "code",
   "execution_count": null,
   "id": "357430dd9b173a53",
   "metadata": {
    "ExecuteTime": {
     "end_time": "2024-09-10T08:33:38.580408Z",
     "start_time": "2024-09-10T08:33:38.464414Z"
    }
   },
   "outputs": [],
   "source": [
    "data.isnull().sum()"
   ]
  },
  {
   "cell_type": "markdown",
   "id": "f7f385f2559e874f",
   "metadata": {},
   "source": [
    "### Посмотрим на количество дубликатов"
   ]
  },
  {
   "cell_type": "code",
   "execution_count": null,
   "id": "ec1011f0a776e6ee",
   "metadata": {
    "ExecuteTime": {
     "end_time": "2024-09-10T08:33:38.992412Z",
     "start_time": "2024-09-10T08:33:38.965415Z"
    }
   },
   "outputs": [],
   "source": [
    "print(data.duplicated().sum())"
   ]
  },
  {
   "cell_type": "markdown",
   "id": "fa642bc7bd83572b",
   "metadata": {},
   "source": [
    "### Посмотрим на количество уникальных значений"
   ]
  },
  {
   "cell_type": "code",
   "execution_count": null,
   "id": "6e6d3f2ae794d8c7",
   "metadata": {
    "ExecuteTime": {
     "end_time": "2024-09-10T08:33:39.419413Z",
     "start_time": "2024-09-10T08:33:39.141417Z"
    }
   },
   "outputs": [],
   "source": [
    "data.nunique()"
   ]
  },
  {
   "cell_type": "code",
   "execution_count": null,
   "id": "c06d1f6797b21304",
   "metadata": {
    "ExecuteTime": {
     "end_time": "2024-09-10T08:33:39.800411Z",
     "start_time": "2024-09-10T08:33:39.429415Z"
    }
   },
   "outputs": [],
   "source": [
    "data['Age'].unique()"
   ]
  },
  {
   "cell_type": "markdown",
   "id": "8d5f074dbfa71b45",
   "metadata": {},
   "source": [
    "### Посмотрим на распределение значений в колонке Age"
   ]
  },
  {
   "cell_type": "code",
   "execution_count": null,
   "id": "abd9e52f2089507",
   "metadata": {
    "ExecuteTime": {
     "end_time": "2024-09-10T08:33:39.927410Z",
     "start_time": "2024-09-10T08:33:39.805418Z"
    }
   },
   "outputs": [],
   "source": [
    "data['Age'].value_counts()"
   ]
  },
  {
   "cell_type": "code",
   "execution_count": null,
   "id": "a65e4b43a9079177",
   "metadata": {
    "ExecuteTime": {
     "end_time": "2024-09-10T08:33:40.350415Z",
     "start_time": "2024-09-10T08:33:40.324413Z"
    }
   },
   "outputs": [],
   "source": [
    "data['Age'].describe()"
   ]
  },
  {
   "cell_type": "markdown",
   "id": "1fd552f078daa8e6",
   "metadata": {},
   "source": [
    "# Анализ данных"
   ]
  },
  {
   "cell_type": "markdown",
   "id": "41e6f03def34d48e",
   "metadata": {},
   "source": [
    "### Функция для визуализации распределения признака\n"
   ]
  },
  {
   "cell_type": "code",
   "execution_count": null,
   "id": "138fa4c47d3adbf4",
   "metadata": {
    "ExecuteTime": {
     "end_time": "2024-09-10T08:33:40.476414Z",
     "start_time": "2024-09-10T08:33:40.426420Z"
    }
   },
   "outputs": [],
   "source": [
    "def plot_distribution(data, feature):\n",
    "    plt.figure(figsize=(10, 6))\n",
    "    if data[feature].dtype in ['int64', 'float64']:\n",
    "        sns.histplot(data[feature], kde=True)\n",
    "        plt.title(f'Distribution of {feature}')\n",
    "    else:\n",
    "        sns.countplot(y=feature, data=data)\n",
    "        plt.title(f'Distribution of {feature}')\n",
    "        plt.ylabel('')\n",
    "    plt.tight_layout()\n",
    "    plt.show()"
   ]
  },
  {
   "cell_type": "markdown",
   "id": "82abd7aeeeae0705",
   "metadata": {},
   "source": [
    "### Визуализация распределения признаков\n"
   ]
  },
  {
   "cell_type": "code",
   "execution_count": null,
   "id": "8040a03b6aaf1364",
   "metadata": {
    "ExecuteTime": {
     "end_time": "2024-09-10T08:33:51.212413Z",
     "start_time": "2024-09-10T08:33:40.677417Z"
    }
   },
   "outputs": [],
   "source": [
    "features_to_visualize = [col for col in data.columns if col != 'User_ID']\n",
    "for feature in features_to_visualize:\n",
    "    plot_distribution(data, feature)\n"
   ]
  },
  {
   "cell_type": "markdown",
   "id": "d131efb081c8ba37",
   "metadata": {},
   "source": [
    "### Корреляционный анализ для числовых признаков\n"
   ]
  },
  {
   "cell_type": "code",
   "execution_count": null,
   "id": "563ba3d6a3a1fe8b",
   "metadata": {
    "ExecuteTime": {
     "end_time": "2024-09-10T08:33:52.165413Z",
     "start_time": "2024-09-10T08:33:51.216421Z"
    }
   },
   "outputs": [],
   "source": [
    "numeric_features = data.select_dtypes(include=['int64', 'float64']).columns\n",
    "correlation_matrix = data[numeric_features].corr()\n",
    "\n",
    "plt.figure(figsize=(12, 10))\n",
    "sns.heatmap(correlation_matrix, annot=True, cmap='coolwarm', linewidths=0.5)\n",
    "plt.title('Correlation Matrix for Numeric Features')\n",
    "plt.tight_layout()\n",
    "plt.show()\n"
   ]
  },
  {
   "cell_type": "markdown",
   "id": "3da25fb64cebe395",
   "metadata": {},
   "source": [
    "### Функция для проведения теста хи-квадрат\n"
   ]
  },
  {
   "cell_type": "code",
   "execution_count": null,
   "id": "3a1eea4b0f6a331e",
   "metadata": {
    "ExecuteTime": {
     "end_time": "2024-09-10T08:33:52.197409Z",
     "start_time": "2024-09-10T08:33:52.168413Z"
    }
   },
   "outputs": [],
   "source": [
    "def test_uniformity(data, feature, p_value=0.05):\n",
    "    if data[feature].dtype in ['int64', 'float64']:\n",
    "        # Для числовых признаков используем биннинг\n",
    "        _, bin_edges = np.histogram(data[feature], bins='auto')\n",
    "        observed, _ = np.histogram(data[feature], bins=bin_edges)\n",
    "        n = len(data[feature])\n",
    "        expected = np.array([n / len(observed)] * len(observed))\n",
    "    else:\n",
    "        # Для категориальных признаков используем частоты категорий\n",
    "        observed = data[feature].value_counts().values\n",
    "        n = len(data[feature])\n",
    "        expected = np.array([n / len(observed)] * len(observed))\n",
    "\n",
    "    chi2, p = stats.chisquare(observed, expected)\n",
    "\n",
    "    return {\n",
    "        'feature': feature,\n",
    "        'chi2_statistic': chi2,\n",
    "        'p_value': p,\n",
    "        'is_uniform': p > p_value\n",
    "    }"
   ]
  },
  {
   "cell_type": "markdown",
   "id": "768ce77ad3cc552b",
   "metadata": {},
   "source": [
    "### Проведение теста хи-квадрат для всех признаков\n",
    "- H0: Распределение значений признака равномерно\n",
    "- H1: Распределение значений признака не равномерно\n",
    "- Уровень значимости: 0.05"
   ]
  },
  {
   "cell_type": "code",
   "execution_count": null,
   "id": "8be950810340a3ff",
   "metadata": {
    "ExecuteTime": {
     "end_time": "2024-09-10T08:33:52.435410Z",
     "start_time": "2024-09-10T08:33:52.202415Z"
    }
   },
   "outputs": [],
   "source": [
    "# Проводим тест для всех признаков, кроме User_id\n",
    "features_to_test = [col for col in data.columns if col != 'User_ID']\n",
    "results = []\n",
    "\n",
    "for feature in features_to_test:\n",
    "    result = test_uniformity(data, feature)\n",
    "    results.append(result)"
   ]
  },
  {
   "cell_type": "code",
   "execution_count": null,
   "id": "f3df1a39de2f9bb0",
   "metadata": {
    "ExecuteTime": {
     "end_time": "2024-09-10T08:33:52.624411Z",
     "start_time": "2024-09-10T08:33:52.438414Z"
    }
   },
   "outputs": [],
   "source": [
    "# Создаем датафрейм с результатами\n",
    "results_df = pd.DataFrame(results)\n",
    "\n",
    "# Сортируем результаты по p-value\n",
    "results_df = results_df.sort_values('p_value')\n",
    "\n",
    "results_df"
   ]
  },
  {
   "cell_type": "markdown",
   "id": "55622fed32807b17",
   "metadata": {},
   "source": [
    "### Визуализация результатов теста хи-квадрат\n"
   ]
  },
  {
   "cell_type": "code",
   "execution_count": null,
   "id": "2ae7a1cf3e197264",
   "metadata": {
    "ExecuteTime": {
     "end_time": "2024-09-10T08:33:53.840411Z",
     "start_time": "2024-09-10T08:33:52.628416Z"
    }
   },
   "outputs": [],
   "source": [
    "plt.figure(figsize=(12, 6))\n",
    "sns.scatterplot(data=results_df, x='chi2_statistic', y='p_value', hue='is_uniform', style='is_uniform')\n",
    "plt.title('Результаты теста на равномерность распределения')\n",
    "plt.xlabel('Статистика хи-квадрат')\n",
    "plt.ylabel('p-value')\n",
    "plt.axhline(y=0.05, color='r', linestyle='--', label='Уровень значимости (0.05)')\n",
    "plt.legend(title='Равномерное распределение')\n",
    "plt.tight_layout()\n",
    "plt.show()"
   ]
  },
  {
   "cell_type": "markdown",
   "id": "8e5c9160b05e6c64",
   "metadata": {},
   "source": [
    "### Функция для визуализации зависимостей между числовыми и категориальными признаками\n"
   ]
  },
  {
   "cell_type": "code",
   "execution_count": null,
   "id": "ad2332b2a657f04a",
   "metadata": {
    "ExecuteTime": {
     "end_time": "2024-09-10T08:33:53.855415Z",
     "start_time": "2024-09-10T08:33:53.843415Z"
    }
   },
   "outputs": [],
   "source": [
    "def plot_boxplot(data, num_feature, cat_feature):\n",
    "    plt.figure(figsize=(10, 6))\n",
    "    sns.boxplot(x=cat_feature, y=num_feature, data=data)\n",
    "    plt.title(f'{num_feature} by {cat_feature}')\n",
    "    plt.xticks(rotation=45)\n",
    "    plt.tight_layout()\n",
    "    plt.show()\n"
   ]
  },
  {
   "cell_type": "markdown",
   "id": "858e823392085bc6",
   "metadata": {},
   "source": [
    "### Визуализация зависимостей между числовыми и категориальными признаками\n"
   ]
  },
  {
   "cell_type": "code",
   "execution_count": null,
   "id": "342388fb895fc9e6",
   "metadata": {
    "ExecuteTime": {
     "end_time": "2024-09-10T08:34:12.100427Z",
     "start_time": "2024-09-10T08:33:53.858416Z"
    }
   },
   "outputs": [],
   "source": [
    "categorical_features = data.select_dtypes(include=['object']).drop('User_ID', axis=1).columns\n",
    "for num_feature in numeric_features:\n",
    "    for cat_feature in categorical_features:\n",
    "        plot_boxplot(data, num_feature, cat_feature)"
   ]
  },
  {
   "cell_type": "markdown",
   "id": "7fedec5490885373",
   "metadata": {},
   "source": [
    "### Проверка равномерности зависимостей между числовыми и категориальными признаками\n",
    "- H0: Зависимость между числовым и категориальным признаком равномерна\n",
    "- H1: Зависимость между числовым и категориальным признаком не равномерна\n",
    "- Уровень значимости: 0.05"
   ]
  },
  {
   "cell_type": "code",
   "execution_count": null,
   "id": "f337acbd8af9be3f",
   "metadata": {
    "ExecuteTime": {
     "end_time": "2024-09-10T08:34:12.148411Z",
     "start_time": "2024-09-10T08:34:12.109414Z"
    }
   },
   "outputs": [],
   "source": [
    "def test_uniformity_numeric_vs_categorical(data, numeric_feature, categorical_feature, p_value=0.05):\n",
    "    groups = [group for _, group in data.groupby(categorical_feature)[numeric_feature]]\n",
    "    f_statistic, p = stats.f_oneway(*groups)\n",
    "\n",
    "    df_between = len(groups) - 1\n",
    "    df_within = sum(len(group) - 1 for group in groups)\n",
    "    eta_squared = (df_between * f_statistic) / (df_between * f_statistic + df_within)\n",
    "    effect_size = np.sqrt(eta_squared)\n",
    "\n",
    "    return {\n",
    "        'numeric_feature': numeric_feature,\n",
    "        'categorical_feature': categorical_feature,\n",
    "        'f_statistic': f_statistic,\n",
    "        'p_value': p,\n",
    "        'is_uniform': p > p_value,\n",
    "        'effect_size': effect_size\n",
    "    }"
   ]
  },
  {
   "cell_type": "markdown",
   "id": "5dcd50328b3090cd",
   "metadata": {},
   "source": [
    "### Определяем числовые и категориальные признаки\n"
   ]
  },
  {
   "cell_type": "code",
   "execution_count": null,
   "id": "ac88297e10b57efc",
   "metadata": {
    "ExecuteTime": {
     "end_time": "2024-09-10T08:34:12.306412Z",
     "start_time": "2024-09-10T08:34:12.156410Z"
    }
   },
   "outputs": [],
   "source": [
    "numeric_features = data.select_dtypes(include=['int64', 'float64']).columns\n",
    "categorical_features = data.select_dtypes(include=['object']).columns\n",
    "\n",
    "numeric_features = [col for col in numeric_features if col != 'User_ID']\n",
    "categorical_features = [col for col in categorical_features if col != 'User_ID']"
   ]
  },
  {
   "cell_type": "markdown",
   "id": "a4897573739493a9",
   "metadata": {},
   "source": [
    "### Проводим тест для всех комбинаций числовых и категориальных признаков\n"
   ]
  },
  {
   "cell_type": "code",
   "execution_count": null,
   "id": "c7ed5b6ca7ea0da9",
   "metadata": {
    "ExecuteTime": {
     "end_time": "2024-09-10T08:34:12.545411Z",
     "start_time": "2024-09-10T08:34:12.308411Z"
    }
   },
   "outputs": [],
   "source": [
    "dependency_results = []\n",
    "\n",
    "for num_feature in numeric_features:\n",
    "    for cat_feature in categorical_features:\n",
    "        result = test_uniformity_numeric_vs_categorical(data, num_feature, cat_feature)\n",
    "        dependency_results.append(result)\n",
    "\n",
    "# Создаем датафрейм с результатами\n",
    "dependency_df = pd.DataFrame(dependency_results)\n",
    "dependency_df"
   ]
  },
  {
   "cell_type": "markdown",
   "id": "68cff262a303e992",
   "metadata": {},
   "source": [
    "### Визуализация результатов теста для числовых и категориальных признаков"
   ]
  },
  {
   "cell_type": "code",
   "execution_count": null,
   "id": "73698e63c25a704d",
   "metadata": {
    "ExecuteTime": {
     "end_time": "2024-09-10T08:34:13.033410Z",
     "start_time": "2024-09-10T08:34:12.548411Z"
    }
   },
   "outputs": [],
   "source": [
    "plt.figure(figsize=(12, 6))\n",
    "sns.scatterplot(data=dependency_df, x='effect_size', y='p_value', hue='is_uniform', style='is_uniform')\n",
    "plt.title('Результаты теста на равномерность зависимости числовых признаков от категориальных')\n",
    "plt.xlabel('Размер эффекта (корень из эта-квадрат)')\n",
    "plt.ylabel('p-value')\n",
    "plt.axhline(y=0.05, color='r', linestyle='--', label='Уровень значимости (0.05)')\n",
    "plt.legend(title='Равномерная зависимость')\n",
    "plt.tight_layout()\n",
    "plt.show()"
   ]
  },
  {
   "cell_type": "markdown",
   "id": "41a937af77da1b6e",
   "metadata": {},
   "source": [
    "### Функция для визуализации зависимости\n"
   ]
  },
  {
   "cell_type": "code",
   "execution_count": null,
   "id": "38c24901361b8294",
   "metadata": {
    "ExecuteTime": {
     "end_time": "2024-09-10T08:34:13.063408Z",
     "start_time": "2024-09-10T08:34:13.037412Z"
    }
   },
   "outputs": [],
   "source": [
    "def plot_dependency(data, numeric_feature, categorical_feature):\n",
    "    plt.figure(figsize=(10, 6))\n",
    "    sns.boxplot(x=categorical_feature, y=numeric_feature, data=data)\n",
    "    plt.title(f'Зависимость {numeric_feature} от {categorical_feature}')\n",
    "    plt.xticks(rotation=45)\n",
    "    plt.tight_layout()\n",
    "    plt.show()\n"
   ]
  },
  {
   "cell_type": "markdown",
   "id": "5fc21a2caa42dca4",
   "metadata": {},
   "source": [
    "### Визуализация наиболее значимых зависимостей\n"
   ]
  },
  {
   "cell_type": "code",
   "execution_count": null,
   "id": "b507193dd2471ad8",
   "metadata": {
    "ExecuteTime": {
     "end_time": "2024-09-10T08:34:14.650411Z",
     "start_time": "2024-09-10T08:34:13.067415Z"
    }
   },
   "outputs": [],
   "source": [
    "top_dependencies = dependency_df[dependency_df['is_uniform'] == False].head(5)\n",
    "for _, row in top_dependencies.iterrows():\n",
    "    plot_dependency(data, row['numeric_feature'], row['categorical_feature'])"
   ]
  },
  {
   "cell_type": "markdown",
   "id": "fa118521f763702a",
   "metadata": {},
   "source": [
    "### Сравнение результатов с предыдущим анализом\n"
   ]
  },
  {
   "cell_type": "code",
   "execution_count": null,
   "id": "720b8a3a5f7f92d2",
   "metadata": {
    "ExecuteTime": {
     "end_time": "2024-09-10T08:34:14.682414Z",
     "start_time": "2024-09-10T08:34:14.653414Z"
    }
   },
   "outputs": [],
   "source": [
    "for feature in results_df['feature']:\n",
    "    if feature in numeric_features:\n",
    "        prev_result = results_df[results_df['feature'] == feature]['is_uniform'].values[0]\n",
    "        curr_results = dependency_df[dependency_df['numeric_feature'] == feature]['is_uniform'].values\n",
    "\n",
    "        if prev_result != all(curr_results):\n",
    "            print(f\"Несоответствие для признака {feature}:\")\n",
    "            print(f\"  Предыдущий результат: {'равномерное' if prev_result else 'неравномерное'} распределение\")\n",
    "            print(f\"  Текущий результат: {'все' if all(curr_results) else 'не все'} зависимости равномерны\")\n"
   ]
  },
  {
   "cell_type": "markdown",
   "id": "6d23a03fbc5d73d6",
   "metadata": {},
   "source": [
    "### Анализ влияния категориальных признаков\n"
   ]
  },
  {
   "cell_type": "code",
   "execution_count": null,
   "id": "9ebbb4165dac33bc",
   "metadata": {
    "ExecuteTime": {
     "end_time": "2024-09-10T08:34:14.842410Z",
     "start_time": "2024-09-10T08:34:14.685412Z"
    }
   },
   "outputs": [],
   "source": [
    "category_impact = dependency_df.groupby('categorical_feature').agg({\n",
    "    'is_uniform': lambda x: (~x).mean(),\n",
    "    'effect_size': 'mean'\n",
    "}).sort_values('is_uniform', ascending=False)\n",
    "\n",
    "category_impact"
   ]
  },
  {
   "cell_type": "markdown",
   "id": "c379ace34f949158",
   "metadata": {},
   "source": [
    "### Визуализация влияния категориальных признаков\n"
   ]
  },
  {
   "cell_type": "code",
   "execution_count": null,
   "id": "a840fa46c60b1f98",
   "metadata": {
    "ExecuteTime": {
     "end_time": "2024-09-10T08:34:15.492415Z",
     "start_time": "2024-09-10T08:34:14.847417Z"
    }
   },
   "outputs": [],
   "source": [
    "plt.figure(figsize=(10, 6))\n",
    "sns.scatterplot(data=category_impact.reset_index(), x='effect_size', y='is_uniform', s=100)\n",
    "for i, row in category_impact.reset_index().iterrows():\n",
    "    plt.annotate(row['categorical_feature'], (row['effect_size'], row['is_uniform']))\n",
    "plt.title('Влияние категориальных признаков на распределение числовых')\n",
    "plt.xlabel('Средний размер эффекта')\n",
    "plt.ylabel('Доля неравномерных зависимостей')\n",
    "plt.tight_layout()\n",
    "plt.show()"
   ]
  },
  {
   "cell_type": "markdown",
   "id": "7e47312b9dff4b9e",
   "metadata": {},
   "source": [
    "# Выводы по Анализу данных\n",
    "\n",
    "## Визуализация распределения признаков:\n",
    "* Создана функция `plot_distribution` для визуализации распределения каждого признака.\n",
    "* Построены гистограммы для числовых признаков и столбчатые диаграммы для категориальных.\n",
    "* Визуализация позволила быстро оценить характер распределения каждого признака.\n",
    "\n",
    "## Корреляционный анализ:\n",
    "* Построена тепловая карта корреляций для числовых признаков.\n",
    "* Использована библиотека seaborn для наглядного представления корреляционной матрицы.\n",
    "* Анализ позволил выявить наиболее сильные линейные связи между признаками.\n",
    "\n",
    "## Тест на равномерность распределения:\n",
    "* Разработана функция `test_uniformity` для проведения теста хи-квадрат.\n",
    "* Проведен тест для всех признаков с уровнем значимости 0.05.\n",
    "* Результаты теста визуализированы с помощью scatter plot, где показаны статистика хи-квадрат и p-value для каждого признака.\n",
    "* Выявлены признаки с неравномерным распределением.\n",
    "\n",
    "## Анализ зависимостей между числовыми и категориальными признаками:\n",
    "* Создана функция `plot_boxplot` для визуализации зависимостей.\n",
    "* Построены box plot'ы для всех комбинаций числовых и категориальных признаков.\n",
    "* Разработана функция `test_uniformity_numeric_vs_categorical` для проведения однофакторного дисперсионного анализа (ANOVA).\n",
    "* Проведен тест для всех комбинаций числовых и категориальных признаков.\n",
    "* Результаты визуализированы с помощью scatter plot, показывающего размер эффекта и p-value для каждой комбинации.\n",
    "\n",
    "## Сравнение результатов с предыдущим анализом:\n",
    "* Проведено сравнение результатов теста на равномерность распределения с результатами анализа зависимостей.\n",
    "* Выявлены несоответствия в результатах для некоторых признаков.\n",
    "\n",
    "## Анализ влияния категориальных признаков:\n",
    "* Рассчитана доля неравномерных зависимостей для каждого категориального признака.\n",
    "* Вычислен средний размер эффекта для каждого категориального признака.\n",
    "* Результаты визуализированы с помощью scatter plot, показывающего влияние каждого категориального признака на распределение числовых.\n",
    "\n",
    "## Выводы:\n",
    "* Выявлены признаки с наиболее неравномерным распределением.\n",
    "* Обнаружены значимые зависимости между некоторыми числовыми и категориальными признаками.\n",
    "* Определены категориальные признаки, оказывающие наибольшее влияние на распределение числовых (например, \"Work_Environment_Impact\").\n",
    "\n"
   ]
  },
  {
   "cell_type": "markdown",
   "id": "e483b62891d791c7",
   "metadata": {},
   "source": [
    "# Обучение модели"
   ]
  },
  {
   "cell_type": "markdown",
   "id": "15bc46c0",
   "metadata": {},
   "source": [
    "\n",
    "### Игнорируем предупреждения о сходимости"
   ]
  },
  {
   "cell_type": "code",
   "execution_count": 40,
   "id": "3d7ebb28ae857e47",
   "metadata": {
    "ExecuteTime": {
     "end_time": "2024-09-10T08:34:15.508416Z",
     "start_time": "2024-09-10T08:34:15.497414Z"
    }
   },
   "outputs": [],
   "source": [
    "warnings.filterwarnings(\"ignore\", category=ConvergenceWarning)"
   ]
  },
  {
   "cell_type": "markdown",
   "id": "800d3255610a675c",
   "metadata": {},
   "source": [
    "### Определение функций "
   ]
  },
  {
   "cell_type": "code",
   "execution_count": 56,
   "id": "e6ace20bac55c875",
   "metadata": {
    "ExecuteTime": {
     "end_time": "2024-09-10T08:48:56.429088Z",
     "start_time": "2024-09-10T08:48:56.400093Z"
    }
   },
   "outputs": [],
   "source": [
    "def preprocess_data(df):\n",
    "    numeric_features = ['Age', 'Technology_Usage_Hours', 'Social_Media_Usage_Hours',\n",
    "                        'Gaming_Hours', 'Screen_Time_Hours', 'Sleep_Hours', 'Physical_Activity_Hours']\n",
    "    categorical_features = ['Gender', 'Stress_Level', 'Support_Systems_Access',\n",
    "                            'Work_Environment_Impact', 'Online_Support_Usage']\n",
    "\n",
    "    preprocessor = ColumnTransformer(\n",
    "        transformers=[\n",
    "            ('num', Pipeline([\n",
    "                ('imputer', SimpleImputer(strategy='median')),\n",
    "                ('scaler', StandardScaler())\n",
    "            ]), numeric_features),\n",
    "            ('cat', Pipeline([\n",
    "                ('imputer', SimpleImputer(strategy='constant', fill_value='missing')),\n",
    "                ('onehot', OneHotEncoder(handle_unknown='ignore', sparse_output=False, dtype=bool))\n",
    "            ]), categorical_features)\n",
    "        ])\n",
    "\n",
    "    return preprocessor\n",
    "\n",
    "def create_and_train_model(preprocessor, model, X_train, y_train, param_grid):\n",
    "    pipeline = Pipeline([\n",
    "        ('preprocessor', preprocessor),\n",
    "        ('classifier', model)\n",
    "    ])\n",
    "\n",
    "    grid_search = GridSearchCV(pipeline, param_grid, cv=5, scoring='f1_weighted', n_jobs=-1, verbose=1)\n",
    "    grid_search.fit(X_train, y_train)\n",
    "\n",
    "    return grid_search\n",
    "\n",
    "def evaluate_model(model, X_test, y_test):\n",
    "    y_pred = model.predict(X_test)\n",
    "    result = {\n",
    "        'Model': model.best_estimator_['classifier'].__class__.__name__,\n",
    "        'F1 Score': f1_score(y_test, y_pred, average='weighted'),\n",
    "        'Recall': recall_score(y_test, y_pred, average='weighted'),\n",
    "        'Precision': precision_score(y_test, y_pred, average='weighted')\n",
    "    }\n",
    "    result.update({f'param_{k}': v for k, v in model.best_params_.items() if k.startswith('classifier__')})\n",
    "    return result\n",
    "\n",
    "def plot_feature_importance(model, feature_names):\n",
    "    if hasattr(model.best_estimator_['classifier'], 'feature_importances_'):\n",
    "        importances = model.best_estimator_['classifier'].feature_importances_\n",
    "        indices = np.argsort(importances)[::-1]\n",
    "        plt.figure(figsize=(10, 6))\n",
    "        plt.title(\"Важность признаков\")\n",
    "        plt.bar(range(len(importances)), importances[indices])\n",
    "        plt.xticks(range(len(importances)), [feature_names[i] for i in indices], rotation=90)\n",
    "        plt.tight_layout()\n",
    "        plt.show()\n",
    "    elif hasattr(model.best_estimator_['classifier'], 'coef_'):\n",
    "        importances = np.abs(model.best_estimator_['classifier'].coef_[0])\n",
    "        indices = np.argsort(importances)[::-1]\n",
    "        plt.figure(figsize=(10, 6))\n",
    "        plt.title(\"Важность признаков\")\n",
    "        plt.bar(range(len(importances)), importances[indices])\n",
    "        plt.xticks(range(len(importances)), [feature_names[i] for i in indices], rotation=90)\n",
    "        plt.tight_layout()\n",
    "        plt.show()\n",
    "\n",
    "def plot_confusion_matrix(model, X_test, y_test):\n",
    "    y_pred = model.predict(X_test)\n",
    "    cm = confusion_matrix(y_test, y_pred)\n",
    "    plt.figure(figsize=(10, 8))\n",
    "    sns.heatmap(cm, annot=True, fmt='d', cmap='Blues')\n",
    "    plt.title(f'Матрица ошибок - {model.best_estimator_[\"classifier\"].__class__.__name__}')\n",
    "    plt.ylabel('Истинная метка')\n",
    "    plt.xlabel('Предсказанная метка')\n",
    "    plt.tight_layout()\n",
    "    plt.show()\n"
   ]
  },
  {
   "cell_type": "markdown",
   "id": "13b0bfa1baf5c50a",
   "metadata": {},
   "source": [
    "### Подготовка данных"
   ]
  },
  {
   "cell_type": "code",
   "execution_count": 57,
   "id": "1ecfc7e2141957d8",
   "metadata": {
    "ExecuteTime": {
     "end_time": "2024-09-10T08:48:58.029053Z",
     "start_time": "2024-09-10T08:48:58.001059Z"
    }
   },
   "outputs": [],
   "source": [
    "X = data.drop('Mental_Health_Status', axis=1)\n",
    "y = data['Mental_Health_Status']\n",
    "\n",
    "X_train, X_test, y_train, y_test = train_test_split(X, y, test_size=0.2, random_state=42)\n",
    "\n",
    "preprocessor = preprocess_data(data)"
   ]
  },
  {
   "cell_type": "markdown",
   "id": "129547d82bd775c9",
   "metadata": {},
   "source": [
    "### Определение моделей и их параметров"
   ]
  },
  {
   "cell_type": "code",
   "execution_count": 61,
   "id": "b39f6ca36d57c37b",
   "metadata": {
    "ExecuteTime": {
     "end_time": "2024-09-10T08:48:59.428054Z",
     "start_time": "2024-09-10T08:48:59.416058Z"
    }
   },
   "outputs": [],
   "source": [
    "models = {\n",
    "    'Logistic Regression': (LogisticRegression(random_state=42, max_iter=1000),\n",
    "                            {'classifier__C': [0.1, 1, 10],\n",
    "                             'classifier__penalty': ['l2', None]}),\n",
    "    'Decision Tree': (DecisionTreeClassifier(random_state=42),\n",
    "                      {'classifier__max_depth': [3, 5, 7, 10],\n",
    "                       'classifier__min_samples_split': [2, 5, 10]}),\n",
    "    'Stochastic Gradient Descent': (SGDClassifier(random_state=42),\n",
    "                                    {'classifier__alpha': [0.0001, 0.001, 0.01],\n",
    "                                     'classifier__loss': ['log_loss', 'hinge', 'modified_huber']}),\n",
    "    'Gradient Boosting': (GradientBoostingClassifier(random_state=42),\n",
    "                          {'classifier__n_estimators': [100, 200],\n",
    "                           'classifier__learning_rate': [0.01, 0.1],\n",
    "                           'classifier__max_depth': [3, 5]})\n",
    "}"
   ]
  },
  {
   "cell_type": "markdown",
   "id": "99e374fe90237708",
   "metadata": {},
   "source": [
    "### Обучение и оценка моделей"
   ]
  },
  {
   "cell_type": "code",
   "execution_count": 62,
   "id": "9ef8a328e2d80822",
   "metadata": {
    "ExecuteTime": {
     "end_time": "2024-09-10T08:49:10.834051Z",
     "start_time": "2024-09-10T08:49:00.744057Z"
    }
   },
   "outputs": [
    {
     "name": "stdout",
     "output_type": "stream",
     "text": [
      "\n",
      "Training Logistic Regression...\n",
      "Fitting 5 folds for each of 6 candidates, totalling 30 fits\n",
      "\n",
      "Training Decision Tree...\n",
      "Fitting 5 folds for each of 12 candidates, totalling 60 fits\n",
      "\n",
      "Training Stochastic Gradient Descent...\n",
      "Fitting 5 folds for each of 9 candidates, totalling 45 fits\n",
      "\n",
      "Training Gradient Boosting...\n",
      "Fitting 5 folds for each of 8 candidates, totalling 40 fits\n"
     ]
    }
   ],
   "source": [
    "results = []\n",
    "for name, (model, param_grid) in models.items():\n",
    "    print(f\"\\nTraining {name}...\")\n",
    "    trained_model = create_and_train_model(preprocessor, model, X_train, y_train, param_grid)\n",
    "    result = evaluate_model(trained_model, X_test, y_test)\n",
    "    results.append(result)\n"
   ]
  },
  {
   "cell_type": "markdown",
   "id": "69b9892c31f51be5",
   "metadata": {},
   "source": [
    "### Отображение результатов"
   ]
  },
  {
   "cell_type": "code",
   "execution_count": 63,
   "id": "56eb3982212161a2",
   "metadata": {
    "ExecuteTime": {
     "end_time": "2024-09-10T08:49:22.229685Z",
     "start_time": "2024-09-10T08:49:22.200683Z"
    }
   },
   "outputs": [
    {
     "data": {
      "text/html": [
       "<div>\n",
       "<style scoped>\n",
       "    .dataframe tbody tr th:only-of-type {\n",
       "        vertical-align: middle;\n",
       "    }\n",
       "\n",
       "    .dataframe tbody tr th {\n",
       "        vertical-align: top;\n",
       "    }\n",
       "\n",
       "    .dataframe thead th {\n",
       "        text-align: right;\n",
       "    }\n",
       "</style>\n",
       "<table border=\"1\" class=\"dataframe\">\n",
       "  <thead>\n",
       "    <tr style=\"text-align: right;\">\n",
       "      <th></th>\n",
       "      <th>Model</th>\n",
       "      <th>F1 Score</th>\n",
       "      <th>Recall</th>\n",
       "      <th>Precision</th>\n",
       "      <th>C</th>\n",
       "      <th>penalty</th>\n",
       "      <th>max_depth</th>\n",
       "      <th>min_samples_split</th>\n",
       "      <th>param_classifier__alpha</th>\n",
       "      <th>param_classifier__loss</th>\n",
       "      <th>param_classifier__learning_rate</th>\n",
       "      <th>n_estimators</th>\n",
       "    </tr>\n",
       "  </thead>\n",
       "  <tbody>\n",
       "    <tr>\n",
       "      <th>0</th>\n",
       "      <td>LogisticRegression</td>\n",
       "      <td>0.242400</td>\n",
       "      <td>0.2430</td>\n",
       "      <td>0.242992</td>\n",
       "      <td>0.1</td>\n",
       "      <td>l2</td>\n",
       "      <td>NaN</td>\n",
       "      <td>NaN</td>\n",
       "      <td>NaN</td>\n",
       "      <td>NaN</td>\n",
       "      <td>NaN</td>\n",
       "      <td>NaN</td>\n",
       "    </tr>\n",
       "    <tr>\n",
       "      <th>1</th>\n",
       "      <td>DecisionTreeClassifier</td>\n",
       "      <td>0.245610</td>\n",
       "      <td>0.2515</td>\n",
       "      <td>0.251866</td>\n",
       "      <td>NaN</td>\n",
       "      <td>NaN</td>\n",
       "      <td>7.0</td>\n",
       "      <td>10.0</td>\n",
       "      <td>NaN</td>\n",
       "      <td>NaN</td>\n",
       "      <td>NaN</td>\n",
       "      <td>NaN</td>\n",
       "    </tr>\n",
       "    <tr>\n",
       "      <th>2</th>\n",
       "      <td>SGDClassifier</td>\n",
       "      <td>0.216528</td>\n",
       "      <td>0.2425</td>\n",
       "      <td>0.254322</td>\n",
       "      <td>NaN</td>\n",
       "      <td>NaN</td>\n",
       "      <td>NaN</td>\n",
       "      <td>NaN</td>\n",
       "      <td>0.001</td>\n",
       "      <td>log_loss</td>\n",
       "      <td>NaN</td>\n",
       "      <td>NaN</td>\n",
       "    </tr>\n",
       "    <tr>\n",
       "      <th>3</th>\n",
       "      <td>GradientBoostingClassifier</td>\n",
       "      <td>0.263539</td>\n",
       "      <td>0.2655</td>\n",
       "      <td>0.265652</td>\n",
       "      <td>NaN</td>\n",
       "      <td>NaN</td>\n",
       "      <td>5.0</td>\n",
       "      <td>NaN</td>\n",
       "      <td>NaN</td>\n",
       "      <td>NaN</td>\n",
       "      <td>0.01</td>\n",
       "      <td>100.0</td>\n",
       "    </tr>\n",
       "  </tbody>\n",
       "</table>\n",
       "</div>"
      ],
      "text/plain": [
       "                        Model  F1 Score  Recall  Precision    C penalty  \\\n",
       "0          LogisticRegression  0.242400  0.2430   0.242992  0.1      l2   \n",
       "1      DecisionTreeClassifier  0.245610  0.2515   0.251866  NaN     NaN   \n",
       "2               SGDClassifier  0.216528  0.2425   0.254322  NaN     NaN   \n",
       "3  GradientBoostingClassifier  0.263539  0.2655   0.265652  NaN     NaN   \n",
       "\n",
       "   max_depth  min_samples_split  param_classifier__alpha  \\\n",
       "0        NaN                NaN                      NaN   \n",
       "1        7.0               10.0                      NaN   \n",
       "2        NaN                NaN                    0.001   \n",
       "3        5.0                NaN                      NaN   \n",
       "\n",
       "  param_classifier__loss  param_classifier__learning_rate  n_estimators  \n",
       "0                    NaN                              NaN           NaN  \n",
       "1                    NaN                              NaN           NaN  \n",
       "2               log_loss                              NaN           NaN  \n",
       "3                    NaN                             0.01         100.0  "
      ]
     },
     "execution_count": 63,
     "metadata": {},
     "output_type": "execute_result"
    }
   ],
   "source": [
    "results_df = pd.DataFrame(results)\n",
    "\n",
    "results_df = results_df.rename(columns={\n",
    "    'param_classifier__C': 'C',\n",
    "    'param_classifier__penalty': 'penalty',\n",
    "    'param_classifier__max_depth': 'max_depth',\n",
    "    'param_classifier__min_samples_split': 'min_samples_split',\n",
    "    'param_classifier__n_estimators': 'n_estimators'\n",
    "})\n",
    "\n",
    "\n",
    "results_df"
   ]
  },
  {
   "cell_type": "markdown",
   "id": "5904f8d30549eff4",
   "metadata": {},
   "source": [
    "### Визуализация результатов"
   ]
  },
  {
   "cell_type": "code",
   "execution_count": null,
   "id": "12614666570a8c0d",
   "metadata": {
    "ExecuteTime": {
     "end_time": "2024-09-10T08:49:23.956678Z",
     "start_time": "2024-09-10T08:49:23.533686Z"
    }
   },
   "outputs": [],
   "source": [
    "plt.figure(figsize=(12, 6))\n",
    "results_df.plot(x='Model', y=['F1 Score', 'Recall', 'Precision'], kind='bar')\n",
    "plt.title('Model Performance Comparison')\n",
    "plt.ylabel('Score')\n",
    "plt.xticks(rotation=45)\n",
    "plt.tight_layout()\n",
    "plt.show()"
   ]
  },
  {
   "cell_type": "markdown",
   "id": "4c88f010b633afdc",
   "metadata": {},
   "source": [
    "###  Анализ лучшей модели\n"
   ]
  },
  {
   "cell_type": "code",
   "execution_count": null,
   "id": "d0088f67d6316cb6",
   "metadata": {
    "ExecuteTime": {
     "end_time": "2024-09-10T08:34:22.208409Z",
     "start_time": "2024-09-10T08:34:22.180416Z"
    }
   },
   "outputs": [],
   "source": [
    "best_model = results_df.loc[results_df['F1 Score'].idxmax()]\n",
    "best_model"
   ]
  },
  {
   "cell_type": "markdown",
   "id": "cdf840b3c9cfa06d",
   "metadata": {},
   "source": [
    "# Общий вывод об обучении модели\n",
    "\n",
    "## Сравнение моделей\n",
    "\n",
    "| Модель | F1 Score | Recall | Precision |\n",
    "|--------|----------|--------|-----------|\n",
    "| Логистическая регрессия | 0.24240 | 0.2430 | 0.242992 |\n",
    "| Дерево решений | 0.24561 | 0.2515 | 0.251866 |\n",
    "\n",
    "## Анализ результатов\n",
    "\n",
    "### Производительность\n",
    "- Обе модели показывают примерно одинаковую производительность\n",
    "- Дерево решений имеет небольшое преимущество по всем метрикам\n",
    "\n",
    "### Оценка качества\n",
    "- Общие показатели производительности для обеих моделей довольно низкие (около 0.25 для всех метрик)\n",
    "- Это может указывать на:\n",
    "  - Сложность задачи классификации\n",
    "    \n",
    "  - Неспособность моделей уловить важные закономерности в данных\n",
    "\n",
    "### Параметры моделей\n",
    "- **Логистическая регрессия**: C = 0.1, penalty = 'l2'\n",
    "- **Дерево решений**: max_depth = 7, min_samples_split = 10\n",
    "\n",
    "## Выводы\n",
    "\n",
    "1. Низкие показатели производительности свидетельствуют о необходимости дальнейшей оптимизации\n",
    "2. Задача может требовать более глубокого анализа данных и инженерии признаков\n",
    "3. Небольшое преимущество дерева решений может указывать на наличие нелинейных связей в данных\n",
    "\n",
    "## Рекомендации по улучшению\n",
    "\n",
    "1. Провести более детальный анализ данных\n",
    "2. Рассмотреть использование более сложных моделей (например, Random Forest, Gradient Boosting)\n",
    "3. Экспериментировать с методами обработки данных и созданием новых признаков\n",
    "4. Проверить сбалансированность классов и применить методы балансировки при необходимости\n",
    "5. Расширить диапазон гиперпараметров для оптимизации моделей\n",
    "\n",
    "## Дальнейшие шаги\n",
    "\n",
    "1. Провести анализ важности признаков (особенно для дерева решений)\n",
    "2. Рассмотреть возможность использования ансамблевых методов\n",
    "3. Оценить производительность на отложенной тестовой выборке для проверки на переобучение\n",
    "\n",
    "---\n",
    "\n",
    "В целом, результаты указывают на необходимость дальнейшей работы над моделями и, возможно, более глубокого исследования самих данных для улучшения качества предсказаний в задаче классификации психического здоровья на основе использования технологий."
   ]
  }
 ],
 "metadata": {
  "kernelspec": {
   "display_name": "Python 3",
   "language": "python",
   "name": "python3"
  },
  "language_info": {
   "codemirror_mode": {
    "name": "ipython",
    "version": 3
   },
   "file_extension": ".py",
   "mimetype": "text/x-python",
   "name": "python",
   "nbconvert_exporter": "python",
   "pygments_lexer": "ipython3",
   "version": "3.12.0"
  }
 },
 "nbformat": 4,
 "nbformat_minor": 5
}
